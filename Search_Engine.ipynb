{
  "nbformat": 4,
  "nbformat_minor": 0,
  "metadata": {
    "colab": {
      "provenance": [],
      "toc_visible": true,
      "mount_file_id": "1ft8v1GmZNXpAPibk_jcAvjQk0jvUEmHN",
      "authorship_tag": "ABX9TyNkbLwJgeHlrcSI52IrRZ1i",
      "include_colab_link": true
    },
    "kernelspec": {
      "name": "python3",
      "display_name": "Python 3"
    },
    "language_info": {
      "name": "python"
    }
  },
  "cells": [
    {
      "cell_type": "markdown",
      "metadata": {
        "id": "view-in-github",
        "colab_type": "text"
      },
      "source": [
        "<a href=\"https://colab.research.google.com/github/summaiyamus/NLP-Tasks/blob/main/Search_Engine.ipynb\" target=\"_parent\"><img src=\"https://colab.research.google.com/assets/colab-badge.svg\" alt=\"Open In Colab\"/></a>"
      ]
    },
    {
      "cell_type": "code",
      "execution_count": 9,
      "metadata": {
        "colab": {
          "base_uri": "https://localhost:8080/"
        },
        "id": "cA3Ph575PDN3",
        "outputId": "5ed08be6-e49e-403f-c422-f4352e66003a"
      },
      "outputs": [
        {
          "output_type": "stream",
          "name": "stderr",
          "text": [
            "[nltk_data] Downloading package punkt to /root/nltk_data...\n",
            "[nltk_data]   Package punkt is already up-to-date!\n",
            "[nltk_data] Downloading package stopwords to /root/nltk_data...\n",
            "[nltk_data]   Package stopwords is already up-to-date!\n"
          ]
        },
        {
          "output_type": "execute_result",
          "data": {
            "text/plain": [
              "True"
            ]
          },
          "metadata": {},
          "execution_count": 9
        }
      ],
      "source": [
        "import os\n",
        "import pandas as pd\n",
        "import re\n",
        "from nltk.tokenize import word_tokenize\n",
        "from nltk.corpus import stopwords\n",
        "from nltk.stem import PorterStemmer\n",
        "\n",
        "# Download NLTK resources (run once)\n",
        "import nltk\n",
        "nltk.download('punkt')\n",
        "nltk.download('stopwords')\n",
        "\n"
      ]
    },
    {
      "cell_type": "code",
      "source": [
        "def preprocess_text(text):\n",
        "    # Remove special characters and numbers\n",
        "    text = re.sub(r'[^a-zA-Z\\s]', '', str(text))\n",
        "\n",
        "    # Tokenization and remove stop words\n",
        "    stop_words = set(stopwords.words('english'))\n",
        "    tokens = word_tokenize(text)\n",
        "    tokens = [word for word in tokens if word.lower() not in stop_words]\n",
        "\n",
        "    # Stemming\n",
        "    porter = PorterStemmer()\n",
        "    tokens = [porter.stem(word) for word in tokens]\n",
        "\n",
        "    return ' '.join(tokens)"
      ],
      "metadata": {
        "id": "8uqCxWsJqR9u"
      },
      "execution_count": null,
      "outputs": []
    },
    {
      "cell_type": "code",
      "source": [
        "\n",
        "def process_csv_files(folder_path):\n",
        "    processed_texts = []\n",
        "\n",
        "    for filename in os.listdir(folder_path):\n",
        "        if filename.endswith(\".csv\"):\n",
        "            file_path = os.path.join(folder_path, filename)\n",
        "\n",
        "            try:\n",
        "                # Read the CSV file into a DataFrame\n",
        "                data = pd.read_csv(file_path)\n",
        "\n",
        "                # Drop rows with any NaN values\n",
        "                data = data.dropna()\n",
        "\n",
        "                # Drop columns with all NaN values\n",
        "                data = data.dropna(axis=1, how='all')\n",
        "\n",
        "                # Apply text preprocessing to all columns\n",
        "                for col in data.columns:\n",
        "                    data[col] = data[col].apply(preprocess_text)\n",
        "\n",
        "                # Display the processed data\n",
        "                print(data.head())\n",
        "\n",
        "                # Append processed text to the list\n",
        "                processed_texts.extend(data.values.flatten())\n",
        "\n",
        "                # Save the processed data to a new CSV file (optional)\n",
        "                processed_csv_path = os.path.join(folder_path, f\"processed_{filename}\")\n",
        "                data.to_csv(processed_csv_path, index=False)\n",
        "                print(f\"Processed data saved to {processed_csv_path}\")\n",
        "\n",
        "            except pd.errors.ParserError as e:\n",
        "                print(f\"Error parsing the CSV file {file_path}: {e}\")\n",
        "\n",
        "    return processed_texts\n",
        "\n"
      ],
      "metadata": {
        "id": "NyHuWU7hkB_a"
      },
      "execution_count": 12,
      "outputs": []
    },
    {
      "cell_type": "code",
      "source": [
        "if __name__ == '__main__':\n",
        "    csv_folder_path = \"/content/drive/MyDrive/DawnDataSet\"\n",
        "    processed_texts = process_csv_files(csv_folder_path)"
      ],
      "metadata": {
        "id": "hTlF9ecSqWc-"
      },
      "execution_count": null,
      "outputs": []
    },
    {
      "cell_type": "code",
      "source": [
        "from google.colab import drive\n",
        "drive.mount('/content/drive')"
      ],
      "metadata": {
        "id": "gRnJ0MrRPRaZ"
      },
      "execution_count": null,
      "outputs": []
    }
  ]
}